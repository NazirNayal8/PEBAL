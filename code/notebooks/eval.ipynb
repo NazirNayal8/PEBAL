{
 "cells": [
  {
   "cell_type": "code",
   "execution_count": null,
   "id": "d61cec78",
   "metadata": {},
   "outputs": [],
   "source": [
    "import os\n",
    "os.chdir('../')"
   ]
  },
  {
   "cell_type": "code",
   "execution_count": null,
   "id": "b835aaf3",
   "metadata": {},
   "outputs": [],
   "source": [
    "%load_ext autoreload\n",
    "%autoreload 2"
   ]
  },
  {
   "cell_type": "code",
   "execution_count": null,
   "id": "b321a5e3",
   "metadata": {},
   "outputs": [],
   "source": [
    "import torch\n",
    "import numpy as np\n",
    "import matplotlib.pyplot as plt\n",
    "import seaborn as sns\n",
    "import pandas as pd\n",
    "import pickle\n",
    "import random\n",
    "\n",
    "from torch.utils.data import DataLoader, Subset\n",
    "\n",
    "import albumentations as A\n",
    "from albumentations.pytorch import ToTensorV2\n",
    "\n",
    "from datasets.cityscapes import Cityscapes\n",
    "from datasets.bdd100k import BDD100KSeg\n",
    "from datasets.road_anomaly import RoadAnomaly\n",
    "from datasets.fishyscapes import FishyscapesLAF, FishyscapesStatic\n",
    "from datasets.segment_me_if_you_can import RoadAnomaly21, RoadObstacle21\n",
    "from datasets.lost_and_found import LostAndFound\n",
    "from easydict import EasyDict as edict\n",
    "from torch.utils.data import DataLoader\n",
    "from torchmetrics import JaccardIndex\n",
    "\n",
    "from tqdm.notebook import tqdm\n",
    "\n",
    "from config.config import config\n",
    "from model.network import Network\n",
    "\n",
    "from analysis.ood import OODAnalyzer, OODEvaluator"
   ]
  },
  {
   "cell_type": "code",
   "execution_count": null,
   "id": "31bd32d2",
   "metadata": {},
   "outputs": [],
   "source": [
    "# !pip install --upgrade git+https://github.com/NazirNayal8/analyze.git"
   ]
  },
  {
   "cell_type": "markdown",
   "id": "50f93b0a",
   "metadata": {},
   "source": [
    "# Paths\n"
   ]
  },
  {
   "cell_type": "code",
   "execution_count": null,
   "id": "adcedb25",
   "metadata": {},
   "outputs": [],
   "source": [
    "ckpt_path = '../ckpts/pretrained_ckpts/best_ad_ckpt.pth'"
   ]
  },
  {
   "cell_type": "markdown",
   "id": "a8ecd7f9",
   "metadata": {},
   "source": [
    "# Dataset Configs"
   ]
  },
  {
   "cell_type": "code",
   "execution_count": null,
   "id": "a82977b2",
   "metadata": {},
   "outputs": [],
   "source": [
    "bdd100k_config = edict({\n",
    "    'seg_downsample_rate': 1,\n",
    "    'train_file': 'train_paths.txt',\n",
    "    'val_file': 'val_paths.txt',\n",
    "    'val_image_strategy': 'no_change',\n",
    "    'ignore_train_class': True,\n",
    "    'dataset_root': '/home/user/datasets/bdd100k/seg'\n",
    "})\n",
    "\n",
    "cityscapes_config = edict({\n",
    "    'dataset_root': '/home/user/datasets/cityscapes',\n",
    "})\n",
    "\n",
    "road_anomaly_config = edict({\n",
    "    'dataset_root': '/home/user/datasets/RoadAnomaly/RoadAnomaly_jpg',\n",
    "    'test_image_strategy': 'no_change'\n",
    "})\n",
    "\n",
    "fishyscapes_laf_config = edict({\n",
    "    'dataset_root': '/home/user/datasets/Fishyscapes/',\n",
    "})\n",
    "\n",
    "fishyscapes_static_config = edict({\n",
    "    'dataset_root': '/home/user/datasets/Fishyscapes/',\n",
    "})\n",
    "\n",
    "road_anomaly_21_config = edict({\n",
    "    'dataset_root': '/home/user/datasets/SegmentMeIfYouCan/dataset_AnomalyTrack',\n",
    "    'dataset_mode': 'all'\n",
    "})\n",
    "\n",
    "road_obstacle_21_config = edict({\n",
    "    'dataset_root': '/home/user/datasets/SegmentMeIfYouCan/dataset_ObstacleTrack',\n",
    "    'dataset_mode': 'all'\n",
    "})\n",
    "\n",
    "laf_config = edict(\n",
    "    dataset_root='/home/user/datasets/LostAndFound',\n",
    ")\n"
   ]
  },
  {
   "cell_type": "markdown",
   "id": "ea32b9c1",
   "metadata": {},
   "source": [
    "\n",
    "# Create Datasets"
   ]
  },
  {
   "cell_type": "code",
   "execution_count": null,
   "id": "0c02d292",
   "metadata": {},
   "outputs": [],
   "source": [
    "# Cityscapes\n",
    "transform = A.Compose([\n",
    "    A.Normalize(mean=config.image_mean, std=config.image_std),\n",
    "    ToTensorV2()\n",
    "])\n",
    "cityscapes_dataset = Cityscapes(cityscapes_config, transform=transform, split='val', \n",
    "                                target_type='semantic')\n",
    "loader_cityscapes = DataLoader(cityscapes_dataset, batch_size=1, shuffle=False, num_workers=15)\n",
    "\n",
    "# BDD100K\n",
    "transform_bdd100k = A.Compose([\n",
    "    A.Normalize(mean=config.image_mean, std=config.image_std),\n",
    "    ToTensorV2(),\n",
    "])\n",
    "bdd100k_dataset = BDD100KSeg(hparams=bdd100k_config, mode='val', transforms=transform_bdd100k, \n",
    "                             image_size=(720, 1280))\n",
    "loader_bdd100k = DataLoader(bdd100k_dataset, batch_size=1, shuffle=False, num_workers=15)\n",
    "# Road Anomaly\n",
    "transform_road_anomaly = A.Compose([\n",
    "    A.Normalize(mean=config.image_mean, std=config.image_std),\n",
    "    ToTensorV2()\n",
    "])\n",
    "road_anomaly_dataset = RoadAnomaly(hparams=road_anomaly_config, transforms=transform_road_anomaly)\n",
    "loader_road_anomaly = DataLoader(road_anomaly_dataset, batch_size=1, shuffle=False, num_workers=15)\n",
    "\n",
    "# Fishyscapes LaF\n",
    "transform_fs_laf = A.Compose([\n",
    "    A.Normalize(mean=config.image_mean, std=config.image_std),\n",
    "    ToTensorV2()\n",
    "])\n",
    "fs_laf_dataset = FishyscapesLAF(hparams=fishyscapes_laf_config, transforms=transform_fs_laf)\n",
    "loader_fs_laf = DataLoader(fs_laf_dataset, batch_size=1, shuffle=False, num_workers=15)\n",
    "\n",
    "# Fishyscapes Static\n",
    "transform_fs_static = A.Compose([\n",
    "    A.Normalize(mean=config.image_mean, std=config.image_std),\n",
    "    ToTensorV2()\n",
    "])\n",
    "fs_static_dataset = FishyscapesStatic(hparams=fishyscapes_static_config, transforms=transform_fs_static)\n",
    "loader_fs_static = DataLoader(fs_static_dataset, batch_size=1, shuffle=False, num_workers=15)\n",
    "\n",
    "# Road Anomaly 21\n",
    "transform_ra_21 = A.Compose([\n",
    "    A.Resize(height=720, width=1280),\n",
    "    A.Normalize(mean=config.image_mean, std=config.image_std),\n",
    "    ToTensorV2()\n",
    "])\n",
    "road_anomaly_21_dataset = RoadAnomaly21(hparams=road_anomaly_21_config, transforms=transform_ra_21)\n",
    "loader_road_anomaly_21 = DataLoader(road_anomaly_21_dataset, batch_size=1, shuffle=False, num_workers=15)\n",
    "\n",
    "# Lost And Found\n",
    "transforms_laf = A.Compose([\n",
    "    A.Normalize(mean=config.image_mean, std=config.image_std),\n",
    "    ToTensorV2()\n",
    "])\n",
    "\n",
    "laf_dataset = LostAndFound(laf_config, transforms_laf) \n",
    "loader_laf = DataLoader(laf_dataset, batch_size=1, shuffle=False, num_workers=15)"
   ]
  },
  {
   "cell_type": "markdown",
   "id": "f1ab65bc",
   "metadata": {},
   "source": [
    "# Load the Model"
   ]
  },
  {
   "cell_type": "code",
   "execution_count": null,
   "id": "e077b470",
   "metadata": {},
   "outputs": [],
   "source": [
    "def load_ckpt(path):\n",
    "    state_dict = torch.load(path)\n",
    "    if 'model' in state_dict.keys():\n",
    "        state_dict = state_dict['model']\n",
    "    model = Network(config.num_classes, wide=True)\n",
    "    \n",
    "    model.load_state_dict(state_dict, strict=True)\n",
    "    model.eval()\n",
    "    model.cuda()\n",
    "    return model"
   ]
  },
  {
   "cell_type": "code",
   "execution_count": null,
   "id": "c62ef69c",
   "metadata": {},
   "outputs": [],
   "source": [
    "model = load_ckpt(ckpt_path)"
   ]
  },
  {
   "cell_type": "code",
   "execution_count": null,
   "id": "ed589814",
   "metadata": {},
   "outputs": [],
   "source": [
    "model"
   ]
  },
  {
   "cell_type": "markdown",
   "id": "8f25fc50",
   "metadata": {},
   "source": [
    "# Util Functions"
   ]
  },
  {
   "cell_type": "code",
   "execution_count": null,
   "id": "237987b4",
   "metadata": {},
   "outputs": [],
   "source": [
    "def get_logits(model, x, **kwargs):\n",
    "    \n",
    "    with torch.no_grad():\n",
    "        out = model(x)\n",
    "    \n",
    "    return out\n",
    "\n",
    "def get_anomaly_score(model, x, **kwargs):\n",
    "    \n",
    "    with torch.no_grad():\n",
    "        out = model(x, output_anomaly=True)\n",
    "    \n",
    "    return out"
   ]
  },
  {
   "cell_type": "markdown",
   "id": "f5381fa7",
   "metadata": {},
   "source": [
    "# Close-Set Evaluations"
   ]
  },
  {
   "cell_type": "code",
   "execution_count": null,
   "id": "ce6b8bd8",
   "metadata": {},
   "outputs": [],
   "source": [
    "analyzer = OODAnalyzer(\n",
    "    model=model, \n",
    "    inference_func=get_logits,\n",
    "    anomaly_score_func=get_anomaly_score,\n",
    "    anomaly_id=1\n",
    ")"
   ]
  },
  {
   "cell_type": "markdown",
   "id": "fe444691",
   "metadata": {},
   "source": [
    "## Cityscapes mIoU"
   ]
  },
  {
   "cell_type": "code",
   "execution_count": null,
   "id": "a6bac4d8",
   "metadata": {},
   "outputs": [],
   "source": [
    "mIoU_cityscapes = analyzer.evaluate_mIoU(\n",
    "    dataset=cityscapes_dataset,\n",
    "    num_classes=20, \n",
    "    ignore_index=19, \n",
    "    batch_size=1,\n",
    "    device=torch.device('cuda'),\n",
    "    num_workers=15\n",
    " )"
   ]
  },
  {
   "cell_type": "code",
   "execution_count": null,
   "id": "685a501e",
   "metadata": {},
   "outputs": [],
   "source": [
    "mIoU_cityscapes"
   ]
  },
  {
   "cell_type": "markdown",
   "id": "029993f7",
   "metadata": {},
   "source": [
    "## BDD100K mIoU"
   ]
  },
  {
   "cell_type": "code",
   "execution_count": null,
   "id": "2e7f53a0",
   "metadata": {},
   "outputs": [],
   "source": [
    "mIoU_bdd100k = analyzer.evaluate_mIoU(\n",
    "    dataset=bdd100k_dataset,\n",
    "    num_classes=20, \n",
    "    ignore_index=19, \n",
    "    batch_size=1,\n",
    "    device=torch.device('cuda'),\n",
    "    num_workers=15\n",
    " )"
   ]
  },
  {
   "cell_type": "code",
   "execution_count": null,
   "id": "84ec9aee",
   "metadata": {},
   "outputs": [],
   "source": [
    "mIoU_bdd100k"
   ]
  },
  {
   "cell_type": "markdown",
   "id": "beb603ae",
   "metadata": {},
   "source": [
    "# OOD Evaluation"
   ]
  },
  {
   "cell_type": "code",
   "execution_count": null,
   "id": "0dfbf30f",
   "metadata": {},
   "outputs": [],
   "source": [
    "ood_evaluator = OODEvaluator(\n",
    "    model, \n",
    "    get_logits,\n",
    "    get_anomaly_score,\n",
    ")"
   ]
  },
  {
   "cell_type": "markdown",
   "id": "0317299c",
   "metadata": {},
   "source": [
    "## Road Anomaly"
   ]
  },
  {
   "cell_type": "code",
   "execution_count": null,
   "id": "9da84a0f",
   "metadata": {},
   "outputs": [],
   "source": [
    "anomaly_score_ra, ood_gts_ra, preds_ra = ood_evaluator.compute_anomaly_scores(\n",
    "    loader=loader_road_anomaly,\n",
    "    device=torch.device('cuda'),\n",
    "    return_preds=True,\n",
    ")\n",
    "\n",
    "metrics_ra = ood_evaluator.evaluate_ood(\n",
    "    anomaly_score=anomaly_score_ra,\n",
    "    ood_gts=ood_gts_ra,\n",
    "    verbose=True\n",
    ")"
   ]
  },
  {
   "cell_type": "code",
   "execution_count": null,
   "id": "375b690f",
   "metadata": {},
   "outputs": [],
   "source": [
    "imgs_ra = ood_evaluator.get_imgs(\n",
    "    road_anomaly_dataset, \n",
    "    image_mean=config.image_mean, \n",
    "    image_std=config.image_std,\n",
    "    out_type=np.float32\n",
    ")"
   ]
  },
  {
   "cell_type": "code",
   "execution_count": null,
   "id": "57f164be",
   "metadata": {},
   "outputs": [],
   "source": [
    "ood_evaluator.log_to_wandb(\n",
    "    project_name='road_anomaly_test',\n",
    "    run_name='pebal_wideresnet34',\n",
    "    imgs=imgs_ra,\n",
    "    ood_gts=ood_gts_ra,\n",
    "    preds=preds_ra,\n",
    "    anomaly_score= anomaly_score_ra,\n",
    "    class_names=bdd100k_dataset.class_names,\n",
    "    metrics=metrics_ra\n",
    ")"
   ]
  },
  {
   "cell_type": "markdown",
   "id": "fa890825",
   "metadata": {},
   "source": [
    "### Fishyscapes LaF"
   ]
  },
  {
   "cell_type": "code",
   "execution_count": null,
   "id": "c95e6f28",
   "metadata": {},
   "outputs": [],
   "source": [
    "anomaly_score_fs_laf, ood_gts_fs_laf, preds_fs_laf = ood_evaluator.compute_anomaly_scores(\n",
    "    loader=loader_fs_laf,\n",
    "    device=torch.device('cuda'),\n",
    "    return_preds=True,\n",
    ")\n",
    "\n",
    "metrics_fs_laf = ood_evaluator.evaluate_ood(\n",
    "    anomaly_score=anomaly_score_fs_laf,\n",
    "    ood_gts=ood_gts_fs_laf,\n",
    "    verbose=True\n",
    ")"
   ]
  },
  {
   "cell_type": "code",
   "execution_count": null,
   "id": "499bdb0a",
   "metadata": {},
   "outputs": [],
   "source": [
    "imgs_fs_laf = ood_evaluator.get_imgs(\n",
    "    fs_laf_dataset, \n",
    "    image_mean=config.image_mean, \n",
    "    image_std=config.image_std,\n",
    "    out_type=np.float32\n",
    ")"
   ]
  },
  {
   "cell_type": "code",
   "execution_count": null,
   "id": "e43e0415",
   "metadata": {},
   "outputs": [],
   "source": [
    "ood_evaluator.log_to_wandb(\n",
    "    project_name='fishyscapes_laf',\n",
    "    run_name='pebal_wideresnet34',\n",
    "    imgs=imgs_fs_laf,\n",
    "    ood_gts=ood_gts_fs_laf,\n",
    "    preds=preds_fs_laf,\n",
    "    anomaly_score= anomaly_score_fs_laf,\n",
    "    class_names=bdd100k_dataset.class_names,\n",
    "    metrics=metrics_fs_laf\n",
    ")"
   ]
  },
  {
   "cell_type": "markdown",
   "id": "ae1e3db6",
   "metadata": {},
   "source": [
    "### Fishyscapes Static"
   ]
  },
  {
   "cell_type": "code",
   "execution_count": null,
   "id": "f679a835",
   "metadata": {
    "scrolled": true
   },
   "outputs": [],
   "source": [
    "anomaly_score_fs_static, ood_gts_fs_static, preds_fs_static = ood_evaluator.compute_anomaly_scores(\n",
    "    loader=loader_fs_static,\n",
    "    device=torch.device('cuda'),\n",
    "    return_preds=True,\n",
    ")\n",
    "\n",
    "metrics_fs_static = ood_evaluator.evaluate_ood(\n",
    "    anomaly_score=anomaly_score_fs_static,\n",
    "    ood_gts=ood_gts_fs_static,\n",
    "    verbose=True\n",
    ")"
   ]
  },
  {
   "cell_type": "code",
   "execution_count": null,
   "id": "3328c033",
   "metadata": {},
   "outputs": [],
   "source": [
    "imgs_fs_static = ood_evaluator.get_imgs(\n",
    "    fs_static_dataset, \n",
    "    image_mean=config.image_mean, \n",
    "    image_std=config.image_std,\n",
    "    out_type=np.float32\n",
    ")"
   ]
  },
  {
   "cell_type": "code",
   "execution_count": null,
   "id": "13b299fd",
   "metadata": {},
   "outputs": [],
   "source": [
    "ood_evaluator.log_to_wandb(\n",
    "    project_name='fishyscapes_static',\n",
    "    run_name='pebal_wideresnet34',\n",
    "    imgs=imgs_fs_static,\n",
    "    ood_gts=ood_gts_fs_static,\n",
    "    preds=preds_fs_static,\n",
    "    anomaly_score= anomaly_score_fs_static,\n",
    "    class_names=bdd100k_dataset.class_names,\n",
    "    metrics=metrics_fs_static\n",
    ")"
   ]
  },
  {
   "cell_type": "markdown",
   "id": "d4bc0910",
   "metadata": {},
   "source": [
    "### Lost And Found"
   ]
  },
  {
   "cell_type": "code",
   "execution_count": null,
   "id": "71be9dac",
   "metadata": {},
   "outputs": [],
   "source": [
    "anomaly_score_laf, ood_gts_laf, preds_laf = ood_evaluator.compute_max_logit_scores(\n",
    "    #loader=DataLoader(Subset(laf_dataset, np.random.choice(np.arange(len(laf_dataset)), 800, replace=False)), batch_size=1, shuffle=False, num_workers=15),\n",
    "    loader=loader_laf,\n",
    "    device=torch.device('cuda'),\n",
    "    return_preds=True,\n",
    "    upper_limit=1250\n",
    ")\n",
    "\n",
    "metrics_laf = ood_evaluator.evaluate_ood(\n",
    "    anomaly_score=anomaly_score_laf,\n",
    "    ood_gts=ood_gts_laf,\n",
    "    verbose=True\n",
    ")"
   ]
  },
  {
   "cell_type": "code",
   "execution_count": null,
   "id": "46f92730",
   "metadata": {},
   "outputs": [],
   "source": [
    "ood_mask = (ood_gts_laf == 1)\n",
    "ind_mask = (ood_gts_laf == 0)\n",
    "\n",
    "ood_out = anomaly_score_laf[ood_mask]\n",
    "ind_out = anomaly_score_laf[ind_mask]\n",
    "\n",
    "ood_out = np.unique(np.round(ood_out, 10))\n",
    "ind_out = np.unique(np.round(ind_out, 10))\n",
    "\n",
    "ood_label = np.ones(len(ood_out))\n",
    "ind_label = np.zeros(len(ind_out))\n",
    "\n",
    "val_out = np.concatenate((ind_out, ood_out))\n",
    "val_label = np.concatenate((ind_label, ood_label))"
   ]
  },
  {
   "cell_type": "code",
   "execution_count": null,
   "id": "a07c0254",
   "metadata": {},
   "outputs": [],
   "source": [
    "len(val_out)"
   ]
  },
  {
   "cell_type": "code",
   "execution_count": null,
   "id": "89e72bf7",
   "metadata": {},
   "outputs": [],
   "source": [
    "auroc, aupr, fpr = ood_evaluator.calculate_ood_metrics(val_out, val_label)\n",
    "\n",
    "print(f'Max Logits: AUROC score: {auroc}')\n",
    "print(f'Max Logits: AUPRC score: {aupr}')\n",
    "print(f'Max Logits: FPR@TPR95: {fpr}')"
   ]
  },
  {
   "cell_type": "code",
   "execution_count": null,
   "id": "8709de38",
   "metadata": {},
   "outputs": [],
   "source": [
    "# Max Logits: AUROC score: 0.7635324685648839\n",
    "# Max Logits: AUPRC score: 0.6216699920945048\n",
    "# Max Logits: FPR@TPR95: 0.8821651142995772"
   ]
  },
  {
   "cell_type": "code",
   "execution_count": null,
   "id": "4cbc332b",
   "metadata": {},
   "outputs": [],
   "source": [
    "v_u = np.unique(val_out)"
   ]
  },
  {
   "cell_type": "code",
   "execution_count": null,
   "id": "deafe3b5",
   "metadata": {},
   "outputs": [],
   "source": [
    "len(v_u)"
   ]
  },
  {
   "cell_type": "code",
   "execution_count": null,
   "id": "d9f0addb",
   "metadata": {},
   "outputs": [],
   "source": [
    "idx = -230\n",
    "\n",
    "im, lb = laf_dataset[idx]\n",
    "\n",
    "plt.imshow(anomaly_score_laf[idx].squeeze())\n",
    "plt.show()\n",
    "plt.imshow(im.permute(1, 2, 0))\n",
    "plt.show()\n",
    "plt.imshow(laf_dataset[idx][1])\n",
    "plt.show()\n",
    "m = lb.clone()\n",
    "k = 1\n",
    "m[lb == k] = 1\n",
    "m[lb != k] = 0\n",
    "plt.imshow(m)\n",
    "plt.show()"
   ]
  },
  {
   "cell_type": "code",
   "execution_count": null,
   "id": "8f4a965b",
   "metadata": {},
   "outputs": [],
   "source": [
    "imgs_laf = ood_evaluator.get_imgs(\n",
    "    laf_dataset, \n",
    "    image_mean=[0,0,0], \n",
    "    image_std=[1,1,1]\n",
    ")"
   ]
  },
  {
   "cell_type": "code",
   "execution_count": null,
   "id": "5b84ad57",
   "metadata": {},
   "outputs": [],
   "source": [
    "ood_evaluator.log_to_wandb(\n",
    "    project_name='lost_and_found',\n",
    "    run_name='mask2former_swin_b_dec_layers_2_res5_only_max_logits',\n",
    "    imgs=imgs_laf,\n",
    "    ood_gts=ood_gts_laf,\n",
    "    preds=preds_laf,\n",
    "    anomaly_score= anomaly_score_laf,\n",
    "    class_names=bdd100k_dataset.class_names,\n",
    "    metrics=metrics_laf\n",
    ")"
   ]
  },
  {
   "cell_type": "markdown",
   "id": "d3861b88",
   "metadata": {},
   "source": [
    "### Road Anomaly 21 (Qualitative)"
   ]
  },
  {
   "cell_type": "code",
   "execution_count": null,
   "id": "e001ac2d",
   "metadata": {},
   "outputs": [],
   "source": [
    "anomaly_score_ra_21, ood_gts_ra_21, preds_ra_21 = ood_evaluator.compute_max_logit_scores(\n",
    "    loader=loader_road_anomaly_21,\n",
    "    device=torch.device('cuda'),\n",
    "    return_preds=True,\n",
    ")"
   ]
  },
  {
   "cell_type": "code",
   "execution_count": null,
   "id": "a84830ec",
   "metadata": {},
   "outputs": [],
   "source": [
    "imgs_ra_21 = ood_evaluator.get_imgs(\n",
    "    road_anomaly_21_dataset, \n",
    "    image_mean=[0,0,0], \n",
    "    image_std=[1,1,1]\n",
    ")"
   ]
  },
  {
   "cell_type": "code",
   "execution_count": null,
   "id": "4de3b6bc",
   "metadata": {},
   "outputs": [],
   "source": [
    "ood_evaluator.log_to_wandb(\n",
    "    project_name='road_anomaly_21',\n",
    "    run_name='mask2former_swin_b_dec_layers_2_res5_only_max_logits',\n",
    "    imgs=imgs_ra_21,\n",
    "    ood_gts=ood_gts_ra_21,\n",
    "    preds=preds_ra_21,\n",
    "    anomaly_score= anomaly_score_ra_21,\n",
    "    class_names=bdd100k_dataset.class_names,\n",
    "    metrics=None\n",
    ")"
   ]
  },
  {
   "cell_type": "markdown",
   "id": "32123107",
   "metadata": {},
   "source": [
    "### BDD100K (Qualitative)"
   ]
  },
  {
   "cell_type": "code",
   "execution_count": null,
   "id": "36c608e6",
   "metadata": {},
   "outputs": [],
   "source": [
    "anomaly_score_bdd100k, ood_gts_bdd100k, preds_bdd100k = ood_evaluator.compute_max_logit_scores(\n",
    "    loader=loader_bdd100k,\n",
    "    device=torch.device('cuda'),\n",
    "    return_preds=True,\n",
    "    upper_limit=450\n",
    ")"
   ]
  },
  {
   "cell_type": "code",
   "execution_count": null,
   "id": "83a8755b",
   "metadata": {},
   "outputs": [],
   "source": [
    "imgs_bdd100k = ood_evaluator.get_imgs(\n",
    "    bdd100k_dataset, \n",
    "    image_mean=[0,0,0], \n",
    "    image_std=[1,1,1]\n",
    ")"
   ]
  },
  {
   "cell_type": "code",
   "execution_count": null,
   "id": "9d051af5",
   "metadata": {},
   "outputs": [],
   "source": [
    "ood_evaluator.log_to_wandb(\n",
    "    project_name='bdd100k_anomaly_eval',\n",
    "    run_name='mask2former_swin_b_replication_max_logits',\n",
    "    imgs=imgs_bdd100k,\n",
    "    ood_gts=ood_gts_bdd100k,\n",
    "    preds=preds_bdd100k,\n",
    "    anomaly_score= anomaly_score_bdd100k,\n",
    "    class_names=bdd100k_dataset.class_names,\n",
    "    metrics=None,\n",
    "    upper_limit=450\n",
    ")"
   ]
  },
  {
   "cell_type": "markdown",
   "id": "492ed5cb",
   "metadata": {},
   "source": [
    "# Bootstrapped Evaluation"
   ]
  },
  {
   "cell_type": "code",
   "execution_count": null,
   "id": "e77a68d3",
   "metadata": {},
   "outputs": [],
   "source": [
    "ratio=0.9\n",
    "trials=20"
   ]
  },
  {
   "cell_type": "code",
   "execution_count": null,
   "id": "1a0586c2",
   "metadata": {
    "scrolled": true
   },
   "outputs": [],
   "source": [
    "metrics_fs_laf = ood_evaluator.evaluate_ood_bootstrapped(\n",
    "    dataset=fs_laf_dataset,\n",
    "    ratio=ratio,\n",
    "    trials=trials,\n",
    "    device=torch.device('cuda'),\n",
    ")"
   ]
  },
  {
   "cell_type": "code",
   "execution_count": null,
   "id": "c39af4b9",
   "metadata": {},
   "outputs": [],
   "source": [
    "metrics_fs_laf"
   ]
  },
  {
   "cell_type": "code",
   "execution_count": null,
   "id": "6a1b57ab",
   "metadata": {},
   "outputs": [],
   "source": [
    "metrics_fs_static = ood_evaluator.evaluate_ood_bootstrapped(\n",
    "    dataset=fs_static_dataset,\n",
    "    ratio=ratio,\n",
    "    trials=trials,\n",
    "    device=torch.device('cuda'),\n",
    ")"
   ]
  },
  {
   "cell_type": "code",
   "execution_count": null,
   "id": "eaadc4bb",
   "metadata": {},
   "outputs": [],
   "source": [
    "metrics_fs_static"
   ]
  },
  {
   "cell_type": "code",
   "execution_count": null,
   "id": "e81607bc",
   "metadata": {
    "scrolled": true
   },
   "outputs": [],
   "source": [
    "metrics_ra = ood_evaluator.evaluate_ood_bootstrapped(\n",
    "    dataset=road_anomaly_dataset,\n",
    "    ratio=ratio,\n",
    "    trials=trials,\n",
    "    device=torch.device('cuda'),\n",
    ")"
   ]
  },
  {
   "cell_type": "code",
   "execution_count": null,
   "id": "5f551ea4",
   "metadata": {},
   "outputs": [],
   "source": [
    "metrics_ra"
   ]
  }
 ],
 "metadata": {
  "kernelspec": {
   "display_name": "pebal_env",
   "language": "python",
   "name": "pebal_env"
  },
  "language_info": {
   "codemirror_mode": {
    "name": "ipython",
    "version": 3
   },
   "file_extension": ".py",
   "mimetype": "text/x-python",
   "name": "python",
   "nbconvert_exporter": "python",
   "pygments_lexer": "ipython3",
   "version": "3.8.13"
  }
 },
 "nbformat": 4,
 "nbformat_minor": 5
}
